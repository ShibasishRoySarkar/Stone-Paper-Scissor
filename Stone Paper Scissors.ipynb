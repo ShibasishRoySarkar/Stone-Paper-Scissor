{
 "cells": [
  {
   "cell_type": "code",
   "execution_count": null,
   "id": "f469b6cb",
   "metadata": {},
   "outputs": [],
   "source": [
    "import random\n",
    "from IPython.display import clear_output\n",
    "\n",
    "def clear_screen():\n",
    "    clear_output(wait=True)\n",
    "\n",
    "choices = ['stone', 'paper', 'scissors']\n",
    "\n",
    "def display_choices():\n",
    "    print(\"Choose your option:\")\n",
    "    for i, choice in enumerate(choices):\n",
    "        print(f\"{i}: {choice}\")\n",
    "\n",
    "\n",
    "def decide_winner(player, computer):\n",
    "    if player == computer:\n",
    "        return \"It's a draw!\"\n",
    "    elif (player == 'stone' and computer == 'scissors') or \\\n",
    "         (player == 'paper' and computer == 'stone') or \\\n",
    "         (player == 'scissors' and computer == 'paper'):\n",
    "        return \"You win!\"\n",
    "    else:\n",
    "        return \"Computer wins!\"\n",
    "\n",
    "\n",
    "def play_game():\n",
    "    game_on = True\n",
    "    \n",
    "    while game_on:\n",
    "        clear_screen()\n",
    "        display_choices()\n",
    "        \n",
    "        player_choice = -1\n",
    "        while player_choice not in range(3):\n",
    "            try:\n",
    "                player_choice = int(input(\"Enter the number corresponding to your choice (0-2): \"))\n",
    "                if player_choice not in range(3):\n",
    "                    print(\"Invalid input, please enter a number between 0-2.\")\n",
    "            except ValueError:\n",
    "                print(\"Invalid input, please enter a valid number.\")\n",
    "        \n",
    "        player_selection = choices[player_choice]\n",
    "        computer_selection = random.choice(choices)\n",
    "        \n",
    "        clear_screen()\n",
    "        print(f\"You chose: {player_selection}\")\n",
    "        print(f\"Computer chose: {computer_selection}\")\n",
    "        print(decide_winner(player_selection, computer_selection))\n",
    "        \n",
    "        play_again = ''\n",
    "        while play_again not in ['y', 'n']:\n",
    "            play_again = input(\"Do you want to play again? (y/n): \").lower()\n",
    "            if play_again == 'n':\n",
    "                game_on = False"
   ]
  },
  {
   "cell_type": "code",
   "execution_count": null,
   "id": "a424ad58",
   "metadata": {},
   "outputs": [],
   "source": [
    "play_game()"
   ]
  }
 ],
 "metadata": {
  "kernelspec": {
   "display_name": "Python 3 (ipykernel)",
   "language": "python",
   "name": "python3"
  },
  "language_info": {
   "codemirror_mode": {
    "name": "ipython",
    "version": 3
   },
   "file_extension": ".py",
   "mimetype": "text/x-python",
   "name": "python",
   "nbconvert_exporter": "python",
   "pygments_lexer": "ipython3",
   "version": "3.11.7"
  }
 },
 "nbformat": 4,
 "nbformat_minor": 5
}
